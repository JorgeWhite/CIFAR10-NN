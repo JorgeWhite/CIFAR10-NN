{
 "cells": [
  {
   "cell_type": "markdown",
   "metadata": {},
   "source": [
    "Convolutional Neural Network to classify the CIFAR-10 Dataset"
   ]
  },
  {
   "cell_type": "code",
   "execution_count": 1,
   "metadata": {},
   "outputs": [],
   "source": [
    "import numpy as np\n",
    "import matplotlib.pyplot as plt\n",
    "import matplotlib as cm\n",
    "import time\n",
    "import copy\n",
    "import torch\n",
    "import torchvision\n",
    "import torch.nn as nn\n",
    "import torch.optim as optim\n",
    "from torch.autograd import Variable\n",
    "import torchvision.transforms as transforms\n",
    "\n",
    "from torchvision.datasets import CIFAR10"
   ]
  },
  {
   "cell_type": "code",
   "execution_count": 15,
   "metadata": {},
   "outputs": [],
   "source": [
    "def count_corrects(net, batch, labels, func=None):\n",
    "    '''Given a batch and its lables, it counts the number of corrects answers of a NN, func parameter applies \n",
    "    a modification to the tensor that contains the data.'''\n",
    "    \n",
    "    if func is not None:\n",
    "        batch = func(batch)\n",
    "        output = net(batch)\n",
    "    else:\n",
    "        output = net(batch)\n",
    "    answers = output.max(dim=1)[1]\n",
    "    correct_quantity = (answers==labels).sum()\n",
    "    return correct_quantity\n",
    "\n",
    "def calculate_global_acc(net, data_loader, batch_size, func=None, cuda=False):\n",
    "    '''Calculate the precision of a NN given a data_loader, it receives a function that transforms the data'''\n",
    "    correct = 0\n",
    "    for (images, labels) in data_loader:\n",
    "        if (cuda and torch.cuda.is_available()):\n",
    "            images = images.cuda()\n",
    "            labels = labels.cuda()\n",
    "        correct += count_corrects(net, images, labels, func)\n",
    "    correct = correct.data.tolist()\n",
    "    return (100*correct)/(len(data_loader)*batch_size)"
   ]
  },
  {
   "cell_type": "markdown",
   "metadata": {},
   "source": [
    "The CIFAR-10 dataset\n",
    "\n",
    "The CIFAR-10 dataset consists of 60000 32x32 colour images in 10 classes, with 6000 images per class. There are 50000 training images and 10000 test images. \n",
    "\n",
    "The dataset is divided into five training batches and one test batch, each with 10000 images. The test batch contains exactly 1000 randomly-selected images from each class. The training batches contain the remaining images in random order, but some training batches may contain more images from one class than another. Between them, the training batches contain exactly 5000 images from each class. "
   ]
  },
  {
   "cell_type": "code",
   "execution_count": 53,
   "metadata": {},
   "outputs": [
    {
     "name": "stdout",
     "output_type": "stream",
     "text": [
      "Files already downloaded and verified\n",
      "Files already downloaded and verified\n"
     ]
    }
   ],
   "source": [
    "#Load the data and divide it in train/test\n",
    "\n",
    "train_set = torchvision.datasets.CIFAR10(root='./data', train=True, download=True, transform=transforms.ToTensor())\n",
    "test_set = torchvision.datasets.CIFAR10(root='./data', train=False, download=True, transform=transforms.ToTensor())\n",
    "\n",
    "train_loader = torch.utils.data.DataLoader(train_set, batch_size=8, shuffle=True, num_workers=8)\n",
    "test_loader = torch.utils.data.DataLoader(test_set, batch_size=8, shuffle=True, num_workers=8)\n",
    "\n",
    "classes = ('plane', 'car', 'bird', 'cat', 'deer', 'dog', 'frog', 'horse', 'ship', 'truck')"
   ]
  },
  {
   "cell_type": "markdown",
   "metadata": {},
   "source": [
    "To solve the classification problem we're going to use a neural network with the next arquitecture:\n",
    "\n",
    " An convolutional layer with a (5, 5) filter and 64 output filters with ReLu activation function.\n",
    " A maxpooling layer of (3, 3)\n",
    " Another convolutional layer with a (5, 5) filter and 32 filter output filters with ReLu activation function.\n",
    " A maxpooling layer of (3, 3)\n",
    " A fully connected layer with 384 neurons, ReLu activation function.\n",
    " A fully connected layer with 192 neurons, ReLu activation function.\n",
    " An output layer with 10 neurons."
   ]
  },
  {
   "cell_type": "code",
   "execution_count": 36,
   "metadata": {},
   "outputs": [],
   "source": [
    "import torch.nn.functional as F\n",
    "\n",
    "class CIFAR_NET(nn.Module):\n",
    "    def __init__(self):\n",
    "        '''Initialize the network'''\n",
    "        super(CIFAR_NET, self).__init__()\n",
    "        self.features = nn.Sequential(\n",
    "             # First convolutional layer, the input datatype are images with RGB so it will have 3 inputs and 64 outputs.\n",
    "             nn.Conv2d(3, 64, 5),\n",
    "             nn.ReLU(),\n",
    "             # Pooling with stride 2\n",
    "             nn.AvgPool2d(2, stride=2)\n",
    "        )\n",
    "            \n",
    "        self.features1 = nn.Sequential(\n",
    "            # Second layer with 64 inputs and 32 outputs.\n",
    "            nn.Conv2d(64, 32, 5),\n",
    "            nn.BatchNorm2d(32),\n",
    "            nn.ReLU(),\n",
    "            ## Pooling with stride = 3\n",
    "            nn.AvgPool2d(3, stride=3)\n",
    "        )\n",
    "        \n",
    "        self.classifier = nn.Sequential(\n",
    "            # Finally we use 2 fully connected layers\n",
    "            nn.Linear(288, 384),\n",
    "            nn.ReLU(),\n",
    "            nn.Linear(384, 192),\n",
    "            nn.ReLU(),\n",
    "            nn.Linear(192, 10)\n",
    "        )\n",
    "        \n",
    "    def forward(self, x):\n",
    "        '''\n",
    "        Defines the order of the forward propagation.\n",
    "        '''\n",
    "        x = self.features(x)\n",
    "        x = self.features1(x)\n",
    "        # It is necessary to flatten the data.\n",
    "        x = x.view(x.size(0), -1)\n",
    "        x = self.classifier(x)\n",
    "        return x\n",
    "    \n",
    "    def train_cnn(self, model, epochs, data_loader, criterion, optimizer, cuda=False):\n",
    "        '''\n",
    "        Defines the training function.\n",
    "        '''\n",
    "        best_model_wts = copy.deepcopy(model.state_dict())\n",
    "        best_acc = 0.0\n",
    "        ind = 0\n",
    "        for epoch in range(1, epochs + 1):\n",
    "            print('Epoch {}/{}'.format(epoch, epochs))\n",
    "            print('-----------')\n",
    "            for phase in ['train', 'val']:\n",
    "                if (phase == 'train'):\n",
    "                    model.train()\n",
    "                else:\n",
    "                    model.eval()\n",
    "                running_loss = 0.0\n",
    "                running_corrects = 0\n",
    "                for inputs, labels in data_loader[phase]:\n",
    "                    inputs = inputs.to(device)\n",
    "                    labels = labels.to(device)\n",
    "                    optimizer.zero_grad()\n",
    "                    outputs = model(inputs)\n",
    "                    loss = criterion(outputs, labels)\n",
    "                    _, preds = torch.max(outputs, 1)\n",
    "                    if phase == 'train':\n",
    "                        loss.backward()\n",
    "                        optimizer.step()\n",
    "                    running_loss += loss.item()*inputs.size(0)\n",
    "                    running_corrects += torch.sum(preds==labels.data)\n",
    "                epoch_loss = running_loss / len(data_loader[phase])\n",
    "                epoch_acc = running_corrects.double() / len(data_loader[phase])\n",
    "                print('{} Loss: {:.4f} Acc: {:.4f}'.format(phase, epoch_loss, epoch_acc))\n",
    "                if phase == 'val' and epoch_acc > best_acc:\n",
    "                    best_acc = epoch_acc\n",
    "                    best_model_wts = copy.deepcopy(model.state_dict())\n",
    "                print('----------')\n",
    "            plt.plot(ind, epoch_loss, 'o--', color='blue')\n",
    "            ind += 1\n",
    "        plt.show()\n",
    "        print('Best val Acc: {:4f}'.format(best_acc))\n",
    "        model.load_state_dict(best_model_wts)\n",
    "        return model\n",
    "        "
   ]
  },
  {
   "cell_type": "code",
   "execution_count": 54,
   "metadata": {},
   "outputs": [],
   "source": [
    "# Dataset with training and validation data.\n",
    "data = [x for x in train_loader]"
   ]
  },
  {
   "cell_type": "code",
   "execution_count": 55,
   "metadata": {},
   "outputs": [
    {
     "name": "stdout",
     "output_type": "stream",
     "text": [
      "Trainig set with size  5000\n",
      "Validation set with size  1250\n"
     ]
    }
   ],
   "source": [
    "# Define the training and validation sets according with the loaded data.\n",
    "train_rate = 0.8\n",
    "size = len(data)\n",
    "size = int(np.ceil(size*train_rate))\n",
    "train_dic = {'train': data[:size], 'val': data[size:]}\n",
    "print('Trainig set with size ', len(train_dic['train']))\n",
    "print('Validation set with size ', len(train_dic['val']))\n",
    "\n",
    "CIFAR = CIFAR_NET()\n",
    "params_to_update = CIFAR.parameters()\n",
    "optimizer = optim.SGD(params_to_update, lr=0.001, momentum=0.9)\n",
    "\n",
    "# We use cross entropy.\n",
    "criterion = nn.CrossEntropyLoss()\n",
    "device = torch.device('cuda:0' if torch.cuda.is_available() else 'cpu')\n",
    "model = CIFAR.to(device)"
   ]
  },
  {
   "cell_type": "code",
   "execution_count": 56,
   "metadata": {},
   "outputs": [
    {
     "name": "stdout",
     "output_type": "stream",
     "text": [
      "Model loaded.\n"
     ]
    }
   ],
   "source": [
    "# Load a previous trained model if exists.\n",
    "\n",
    "try:\n",
    "    std_dict = torch.load('./CIFAR.pth')\n",
    "    model.load_state_dict(std_dict)\n",
    "    print('Model loaded.')\n",
    "except:\n",
    "    print('New Model')"
   ]
  },
  {
   "cell_type": "code",
   "execution_count": 57,
   "metadata": {
    "scrolled": true
   },
   "outputs": [
    {
     "name": "stdout",
     "output_type": "stream",
     "text": [
      "Epoch 1/5\n",
      "-----------\n",
      "train Loss: 6.2773 Acc: 5.7920\n",
      "----------\n",
      "val Loss: 5.7897 Acc: 5.9680\n",
      "----------\n",
      "Epoch 2/5\n",
      "-----------\n",
      "train Loss: 5.5948 Acc: 6.0386\n",
      "----------\n",
      "val Loss: 5.9167 Acc: 5.9304\n",
      "----------\n",
      "Epoch 3/5\n",
      "-----------\n",
      "train Loss: 5.0687 Acc: 6.2342\n",
      "----------\n",
      "val Loss: 6.1102 Acc: 5.8928\n",
      "----------\n",
      "Epoch 4/5\n",
      "-----------\n",
      "train Loss: 4.5957 Acc: 6.4080\n",
      "----------\n",
      "val Loss: 6.3796 Acc: 5.8784\n",
      "----------\n",
      "Epoch 5/5\n",
      "-----------\n",
      "train Loss: 4.1477 Acc: 6.5736\n",
      "----------\n",
      "val Loss: 6.4274 Acc: 5.8872\n",
      "----------\n"
     ]
    },
    {
     "data": {
      "image/png": "[encoded data removed]",
      "text/plain": [
       "<Figure size 432x288 with 1 Axes>"
      ]
     },
     "metadata": {
      "needs_background": "light"
     },
     "output_type": "display_data"
    },
    {
     "name": "stdout",
     "output_type": "stream",
     "text": [
      "Best val Acc: 5.968000\n"
     ]
    }
   ],
   "source": [
    "# Train the model\n",
    "\n",
    "EPOCHS = 5\n",
    "CIFAR = CIFAR.train_cnn(CIFAR, EPOCHS, train_dic, criterion, optimizer)\n",
    "\n",
    "# Save the trained model.\n",
    "torch.save(model.state_dict(), './CIFAR.pth')"
   ]
  },
  {
   "cell_type": "code",
   "execution_count": 60,
   "metadata": {},
   "outputs": [
    {
     "name": "stdout",
     "output_type": "stream",
     "text": [
      "Test dataset accuracy: 69.3900%\n"
     ]
    }
   ],
   "source": [
    "# Calculate the accuracy of the model with test data.\n",
    "\n",
    "acc_test = calculate_global_acc(CIFAR, test_loader, 8)\n",
    "print('Test dataset accuracy: %.4f%%'%(acc_test))"
   ]
  },
  {
   "cell_type": "code",
   "execution_count": 61,
   "metadata": {},
   "outputs": [
    {
     "name": "stdout",
     "output_type": "stream",
     "text": [
      "Train dataset accuracy: 76.6540%\n"
     ]
    }
   ],
   "source": [
    "# Calculate accuracy of the model with training data.\n",
    "\n",
    "acc_train = calculate_global_acc(CIFAR, train_loader, 8)\n",
    "print('Train dataset accuracy: %.4f%%'%(acc_train))"
   ]
  },
  {
   "cell_type": "code",
   "execution_count": 62,
   "metadata": {},
   "outputs": [],
   "source": [
    "# Test the NN with the test dataset.\n",
    "\n",
    "data_test = [x for x in test_loader]"
   ]
  },
  {
   "cell_type": "code",
   "execution_count": 21,
   "metadata": {},
   "outputs": [],
   "source": [
    "def imshow(img, title,cmap, norm=None):\n",
    "    '''\n",
    "    Show the matrices.\n",
    "    '''\n",
    "    plt.figure()\n",
    "    plt.axis('off')\n",
    "    plt.imshow(img, norm=norm)\n",
    "    plt.title(title)\n",
    "    plt.show()\n",
    "    \n",
    "    \n",
    "def image_show(img1, img2, img3, title, norm = None):\n",
    "    'Show images in RGB'\n",
    "    ima = torch.zeros([32, 32, 3])\n",
    "    for i in range(32):\n",
    "        for j in range(32):\n",
    "            ima[i][j] = torch.tensor([[img1[i][j], img2[i][j], img3[i][j]]])\n",
    "    plt.figure()\n",
    "    plt.axis('off')\n",
    "    plt.imshow(ima, norm=norm)\n",
    "    plt.title(title)\n",
    "    plt.show()"
   ]
  },
  {
   "cell_type": "code",
   "execution_count": 33,
   "metadata": {},
   "outputs": [],
   "source": [
    "def test_NN(n):\n",
    "    for i in range(n):\n",
    "        random_ind = np.random.randint(1, 999)\n",
    "        (image, label) = data_test[random_ind]\n",
    "        o = model(image)\n",
    "        _, pred = torch.max(o, 1)\n",
    "        \n",
    "        print('NN guesses a : ', classes[int(pred[0])])\n",
    "        print('The correct answer is: ',  classes[label[0]])\n",
    "\n",
    "        image_show(image[0, 0, :, :], image[0, 1, :, :], image[0, 2, :, :], 'image')\n",
    "        print('-----------------------------')\n",
    "\n"
   ]
  },
  {
   "cell_type": "code",
   "execution_count": 65,
   "metadata": {},
   "outputs": [
    {
     "name": "stdout",
     "output_type": "stream",
     "text": [
      "NN guesses a :  car\n",
      "The correct answer is:  cat\n"
     ]
    },
    {
     "data": {
      "image/png": "[encoded data removed]",
      "text/plain": [
       "<Figure size 432x288 with 1 Axes>"
      ]
     },
     "metadata": {
      "needs_background": "light"
     },
     "output_type": "display_data"
    },
    {
     "name": "stdout",
     "output_type": "stream",
     "text": [
      "-----------------------------\n",
      "NN guesses a :  deer\n",
      "The correct answer is:  deer\n"
     ]
    },
    {
     "data": {
      "image/png": "[encoded data removed]",
      "text/plain": [
       "<Figure size 432x288 with 1 Axes>"
      ]
     },
     "metadata": {
      "needs_background": "light"
     },
     "output_type": "display_data"
    },
    {
     "name": "stdout",
     "output_type": "stream",
     "text": [
      "-----------------------------\n",
      "NN guesses a :  cat\n",
      "The correct answer is:  cat\n"
     ]
    },
    {
     "data": {
      "image/png": "[encoded data removed]",
      "text/plain": [
       "<Figure size 432x288 with 1 Axes>"
      ]
     },
     "metadata": {
      "needs_background": "light"
     },
     "output_type": "display_data"
    },
    {
     "name": "stdout",
     "output_type": "stream",
     "text": [
      "-----------------------------\n",
      "NN guesses a :  ship\n",
      "The correct answer is:  ship\n"
     ]
    },
    {
     "data": {
      "image/png": "[encoded data removed]",
      "text/plain": [
       "<Figure size 432x288 with 1 Axes>"
      ]
     },
     "metadata": {
      "needs_background": "light"
     },
     "output_type": "display_data"
    },
    {
     "name": "stdout",
     "output_type": "stream",
     "text": [
      "-----------------------------\n",
      "NN guesses a :  dog\n",
      "The correct answer is:  cat\n"
     ]
    },
    {
     "data": {
      "image/png": "[encoded data removed]",
      "text/plain": [
       "<Figure size 432x288 with 1 Axes>"
      ]
     },
     "metadata": {
      "needs_background": "light"
     },
     "output_type": "display_data"
    },
    {
     "name": "stdout",
     "output_type": "stream",
     "text": [
      "-----------------------------\n"
     ]
    }
   ],
   "source": [
    "test_NN(5)"
   ]
  },
  {
   "cell_type": "code",
   "execution_count": null,
   "metadata": {},
   "outputs": [],
   "source": []
  }
 ],
 "metadata": {
  "kernelspec": {
   "display_name": "Python 3",
   "language": "python",
   "name": "python3"
  },
  "language_info": {
   "codemirror_mode": {
    "name": "ipython",
    "version": 3
   },
   "file_extension": ".py",
   "mimetype": "text/x-python",
   "name": "python",
   "nbconvert_exporter": "python",
   "pygments_lexer": "ipython3",
   "version": "3.8.5"
  }
 },
 "nbformat": 4,
 "nbformat_minor": 4
}
