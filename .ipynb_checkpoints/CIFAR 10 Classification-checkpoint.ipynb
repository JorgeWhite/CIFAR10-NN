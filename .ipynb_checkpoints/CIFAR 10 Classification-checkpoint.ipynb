{
 "cells": [
  {
   "cell_type": "markdown",
   "metadata": {},
   "source": [
    "Convolutional Neural Network to classify the CIFAR-10 Dataset"
   ]
  },
  {
   "cell_type": "code",
   "execution_count": 4,
   "metadata": {},
   "outputs": [],
   "source": [
    "import numpy as np\n",
    "import matplotlib.pyplot as plt\n",
    "import matplotlib as cm\n",
    "import time\n",
    "import copy\n",
    "import torch\n",
    "import torchvision\n",
    "import torch.nn as nn\n",
    "import torch.optim as optim\n",
    "from torch.autograd import Variable\n",
    "import torchvision.transforms as transforms\n",
    "\n",
    "from torchvision.datasets import CIFAR10"
   ]
  },
  {
   "cell_type": "code",
   "execution_count": 5,
   "metadata": {},
   "outputs": [],
   "source": [
    "def count_corrects(net, batch, labels, func=None):\n",
    "    '''Given a batch and its lables, it counts the number of corrects answers of a NN, func parameter applies \n",
    "    a modification to the tensor that contains the data.'''\n",
    "    \n",
    "    if func is not None:\n",
    "        batch = func(batch)\n",
    "        output = net(batch)\n",
    "    else:\n",
    "        output = net(batch)\n",
    "    answers = output.max(dim=1)[1]\n",
    "    correct_quantity = (answers==labels).sum()\n",
    "    return correct_quantity\n",
    "\n",
    "def calculate_global_acc(net, data_loader, batch_size, func=None, cuda=False):\n",
    "    '''Calculate the precision of a NN given a data_loader, it receives a function that transforms the data'''\n",
    "    correct = 0\n",
    "    for (images, labels) in data_loader:\n",
    "        if (cuda and torch.cuda.is_available()):\n",
    "            images = images.cuda()\n",
    "            labels = labels.cuda()\n",
    "        correct += count_corrects(net, images, labels, func)\n",
    "    correct = correct.data.tolist()\n",
    "    return (100*correct)/(len(data_loader)*batch_size)"
   ]
  },
  {
   "cell_type": "markdown",
   "metadata": {},
   "source": [
    "The CIFAR-10 dataset\n",
    "\n",
    "The CIFAR-10 dataset consists of 60000 32x32 colour images in 10 classes, with 6000 images per class. There are 50000 training images and 10000 test images. \n",
    "\n",
    "The dataset is divided into five training batches and one test batch, each with 10000 images. The test batch contains exactly 1000 randomly-selected images from each class. The training batches contain the remaining images in random order, but some training batches may contain more images from one class than another. Between them, the training batches contain exactly 5000 images from each class. "
   ]
  },
  {
   "cell_type": "code",
   "execution_count": 6,
   "metadata": {},
   "outputs": [
    {
     "name": "stdout",
     "output_type": "stream",
     "text": [
      "Files already downloaded and verified\n",
      "Files already downloaded and verified\n"
     ]
    }
   ],
   "source": [
    "#Load the data and divide it in train/test\n",
    "\n",
    "train_set = torchvision.datasets.CIFAR10(root='./data', train=True, download=True, transform=transforms.ToTensor())\n",
    "test_set = torchvision.datasets.CIFAR10(root='./data', train=False, download=True, transform=transforms.ToTensor())\n",
    "\n",
    "train_loader = torch.utils.data.DataLoader(train_set, batch_size=8, shuffle=True, num_workers=8)\n",
    "test_loader = torch.utils.data.DataLoader(test_set, batch_size=8, shuffle=True, num_workers=8)\n",
    "\n",
    "classes = ('plane', 'car', 'bird', 'cat', 'deer', 'dog', 'frog', 'horse', 'ship', 'truck')"
   ]
  },
  {
   "cell_type": "markdown",
   "metadata": {},
   "source": [
    "To solve the classification problem we're going to use a neural network with the next arquitecture:\n",
    "\n",
    " An convolutional layer with a (5, 5) filter and 64 output filters with ReLu activation function.\n",
    " A maxpooling layer of (3, 3)\n",
    " Another convolutional layer with a (5, 5) filter and 32 filter output filters with ReLu activation function.\n",
    " A maxpooling layer of (3, 3)\n",
    " A fully connected layer with 384 neurons, ReLu activation function.\n",
    " A fully connected layer with 192 neurons, ReLu activation function.\n",
    " An output layer with 10 neurons."
   ]
  },
  {
   "cell_type": "code",
   "execution_count": 7,
   "metadata": {},
   "outputs": [],
   "source": [
    "import torch.nn.functional as F\n",
    "\n",
    "class CIFAR_NET(nn.Module):\n",
    "    def __init__(self):\n",
    "        '''Initialize the network'''\n",
    "        super(CIFAR_NET, self).__init__()\n",
    "        self.features = nn.Sequential(\n",
    "             # First convolutional layer, the input datatype are images with RGB so it will have 3 inputs and 64 outputs.\n",
    "             nn.Conv2d(3, 64, 5),\n",
    "             nn.ReLU(),\n",
    "             # Pooling with stride 2\n",
    "             nn.AvgPool2d(2, stride=2)\n",
    "        )\n",
    "            \n",
    "        self.features1 = nn.Sequential(\n",
    "            # Second layer with 64 inputs and 32 outputs.\n",
    "            nn.Conv2d(64, 32, 5),\n",
    "            nn.BatchNorm2d(32),\n",
    "            nn.ReLU(),\n",
    "            ## Pooling with stride = 3\n",
    "            nn.AvgPool2d(3, stride=3)\n",
    "        )\n",
    "        \n",
    "        self.classifier = nn.Sequential(\n",
    "            # Finally we use 2 fully connected layers\n",
    "            nn.Linear(288, 384),\n",
    "            nn.ReLU(),\n",
    "            nn.Linear(384, 192),\n",
    "            nn.ReLU(),\n",
    "            nn.Linear(192, 10)\n",
    "        )\n",
    "        \n",
    "    def forward(self, x):\n",
    "        '''\n",
    "        Defines the order of the forward propagation.\n",
    "        '''\n",
    "        x = self.features(x)\n",
    "        x = self.features1(x)\n",
    "        # It is necessary to flatten the data.\n",
    "        x = x.view(x.size(0), -1)\n",
    "        x = self.classifier(x)\n",
    "        return x\n",
    "    \n",
    "    def train_cnn(self, model, epochs, data_loader, criterion, optimizer, cuda=False):\n",
    "        '''\n",
    "        Defines the training function.\n",
    "        '''\n",
    "        best_model_wts = copy.deepcopy(model.state_dict())\n",
    "        best_acc = 0.0\n",
    "        ind = 0\n",
    "        for epoch in range(1, epochs + 1):\n",
    "            print('Epoch {}/{}'.format(epoch, epochs))\n",
    "            print('-----------')\n",
    "            for phase in ['train', 'val']:\n",
    "                if (phase == 'train'):\n",
    "                    model.train()\n",
    "                else:\n",
    "                    model.eval()\n",
    "                running_loss = 0.0\n",
    "                running_corrects = 0\n",
    "                for inputs, labels in data_loader[phase]:\n",
    "                    inputs = inputs.to(device)\n",
    "                    labels = labels.to(device)\n",
    "                    optimizer.zero_grad()\n",
    "                    outputs = model(inputs)\n",
    "                    loss = criterion(outputs, labels)\n",
    "                    _, preds = torch.max(outputs, 1)\n",
    "                    if phase == 'train':\n",
    "                        loss.backward()\n",
    "                        optimizer.step()\n",
    "                    running_loss += loss.item()*inputs.size(0)\n",
    "                    running_corrects += torch.sum(preds==labels.data)\n",
    "                epoch_loss = running_loss / len(data_loader[phase])\n",
    "                epoch_acc = running_corrects.double() / len(data_loader[phase])\n",
    "                print('{} Loss: {:.4f} Acc: {:.4f}'.format(phase, epoch_loss, epoch_acc))\n",
    "                if phase == 'val' and epoch_acc > best_acc:\n",
    "                    best_acc = epoch_acc\n",
    "                    best_model_wts = copy.deepcopy(model.state_dict())\n",
    "                print('----------')\n",
    "            plt.plot(ind, epoch_loss, 'o--', color='blue')\n",
    "            ind += 1\n",
    "        plt.show()\n",
    "        print('Best val Acc: {:4f}'.format(best_acc))\n",
    "        model.load_state_dict(best_model_wts)\n",
    "        return model\n",
    "        "
   ]
  },
  {
   "cell_type": "code",
   "execution_count": 8,
   "metadata": {},
   "outputs": [],
   "source": [
    "# Dataset with training and validation data.\n",
    "data = [x for x in train_loader]"
   ]
  },
  {
   "cell_type": "code",
   "execution_count": 11,
   "metadata": {},
   "outputs": [
    {
     "name": "stdout",
     "output_type": "stream",
     "text": [
      "Trainig set with size  5000\n",
      "Validation set with size  1250\n"
     ]
    }
   ],
   "source": [
    "# Define the training and validation sets according with the loaded data.\n",
    "train_rate = 0.8\n",
    "size = len(data)\n",
    "size = int(np.ceil(size*train_rate))\n",
    "train_dic = {'train': data[:size], 'val': data[size:]}\n",
    "print('Trainig set with size ', len(train_dic['train']))\n",
    "print('Validation set with size ', len(train_dic['val']))\n",
    "\n",
    "CIFAR = CIFAR_NET()\n",
    "params_to_update = CIFAR.parameters()\n",
    "optimizer = optim.SGD(params_to_update, lr=0.001, momentum=0.9)\n",
    "\n",
    "# We use cross entropy.\n",
    "criterion = nn.CrossEntropyLoss()\n",
    "device = torch.device('cuda:0' if torch.cuda.is_available() else 'cpu')\n",
    "model = CIFAR.to(device)"
   ]
  },
  {
   "cell_type": "code",
   "execution_count": 12,
   "metadata": {},
   "outputs": [
    {
     "name": "stdout",
     "output_type": "stream",
     "text": [
      "Model loaded.\n"
     ]
    }
   ],
   "source": [
    "# Load a previous trained model if exists.\n",
    "\n",
    "try:\n",
    "    std_dict = torch.load('./CIFAR.pth')\n",
    "    model.load_state_dict(std_dict)\n",
    "    print('Model loaded.')\n",
    "except:\n",
    "    print('New Model')"
   ]
  },
  {
   "cell_type": "code",
   "execution_count": 22,
   "metadata": {
    "scrolled": true
   },
   "outputs": [
    {
     "name": "stdout",
     "output_type": "stream",
     "text": [
      "Epoch 1/50\n",
      "-----------\n",
      "train Loss: 5.8471 Acc: 5.9666\n",
      "----------\n",
      "val Loss: 5.7079 Acc: 6.0096\n",
      "----------\n",
      "Epoch 2/50\n",
      "-----------\n",
      "train Loss: 5.2479 Acc: 6.1834\n",
      "----------\n",
      "val Loss: 5.8722 Acc: 5.9576\n",
      "----------\n",
      "Epoch 3/50\n",
      "-----------\n",
      "train Loss: 4.7419 Acc: 6.3614\n",
      "----------\n",
      "val Loss: 6.1464 Acc: 5.9000\n",
      "----------\n",
      "Epoch 4/50\n",
      "-----------\n",
      "train Loss: 4.2927 Acc: 6.5290\n",
      "----------\n",
      "val Loss: 6.3833 Acc: 5.8904\n",
      "----------\n",
      "Epoch 5/50\n",
      "-----------\n",
      "train Loss: 3.8590 Acc: 6.6952\n",
      "----------\n",
      "val Loss: 6.7586 Acc: 5.8384\n",
      "----------\n",
      "Epoch 6/50\n",
      "-----------\n",
      "train Loss: 3.4516 Acc: 6.8490\n",
      "----------\n",
      "val Loss: 7.1730 Acc: 5.7920\n",
      "----------\n",
      "Epoch 7/50\n",
      "-----------\n",
      "train Loss: 3.0550 Acc: 6.9962\n",
      "----------\n",
      "val Loss: 7.7863 Acc: 5.7128\n",
      "----------\n",
      "Epoch 8/50\n",
      "-----------\n",
      "train Loss: 2.6894 Acc: 7.1136\n",
      "----------\n",
      "val Loss: 8.1326 Acc: 5.6904\n",
      "----------\n",
      "Epoch 9/50\n",
      "-----------\n",
      "train Loss: 2.3643 Acc: 7.2346\n",
      "----------\n",
      "val Loss: 8.6552 Acc: 5.6824\n",
      "----------\n",
      "Epoch 10/50\n",
      "-----------\n",
      "train Loss: 2.1602 Acc: 7.2854\n",
      "----------\n",
      "val Loss: 9.1477 Acc: 5.6680\n",
      "----------\n",
      "Epoch 11/50\n",
      "-----------\n",
      "train Loss: 1.9961 Acc: 7.3222\n",
      "----------\n",
      "val Loss: 9.9352 Acc: 5.5520\n",
      "----------\n",
      "Epoch 12/50\n",
      "-----------\n",
      "train Loss: 1.9121 Acc: 7.3428\n",
      "----------\n",
      "val Loss: 9.9087 Acc: 5.5888\n",
      "----------\n",
      "Epoch 13/50\n",
      "-----------\n",
      "train Loss: 1.7941 Acc: 7.3770\n",
      "----------\n",
      "val Loss: 11.3029 Acc: 5.4808\n",
      "----------\n",
      "Epoch 14/50\n",
      "-----------\n",
      "train Loss: 1.5758 Acc: 7.4622\n",
      "----------\n",
      "val Loss: 10.4895 Acc: 5.5952\n",
      "----------\n",
      "Epoch 15/50\n",
      "-----------\n",
      "train Loss: 1.4722 Acc: 7.4950\n",
      "----------\n",
      "val Loss: 11.2514 Acc: 5.6160\n",
      "----------\n",
      "Epoch 16/50\n",
      "-----------\n",
      "train Loss: 1.3760 Acc: 7.5204\n",
      "----------\n",
      "val Loss: 11.7773 Acc: 5.5672\n",
      "----------\n",
      "Epoch 17/50\n",
      "-----------\n",
      "train Loss: 1.2378 Acc: 7.5596\n",
      "----------\n",
      "val Loss: 11.3704 Acc: 5.7024\n",
      "----------\n",
      "Epoch 18/50\n",
      "-----------\n",
      "train Loss: 1.1471 Acc: 7.5942\n",
      "----------\n",
      "val Loss: 11.7814 Acc: 5.6584\n",
      "----------\n",
      "Epoch 19/50\n",
      "-----------\n",
      "train Loss: 1.0854 Acc: 7.6244\n",
      "----------\n",
      "val Loss: 13.7443 Acc: 5.5544\n",
      "----------\n",
      "Epoch 20/50\n",
      "-----------\n",
      "train Loss: 0.9883 Acc: 7.6582\n",
      "----------\n",
      "val Loss: 12.2151 Acc: 5.6904\n",
      "----------\n",
      "Epoch 21/50\n",
      "-----------\n",
      "train Loss: 0.8725 Acc: 7.7014\n",
      "----------\n",
      "val Loss: 12.7098 Acc: 5.6256\n",
      "----------\n",
      "Epoch 22/50\n",
      "-----------\n",
      "train Loss: 0.8362 Acc: 7.7072\n",
      "----------\n",
      "val Loss: 13.0336 Acc: 5.7008\n",
      "----------\n",
      "Epoch 23/50\n",
      "-----------\n",
      "train Loss: 0.7756 Acc: 7.7354\n",
      "----------\n",
      "val Loss: 12.9733 Acc: 5.6696\n",
      "----------\n",
      "Epoch 24/50\n",
      "-----------\n",
      "train Loss: 0.8396 Acc: 7.7102\n",
      "----------\n",
      "val Loss: 14.3223 Acc: 5.5952\n",
      "----------\n",
      "Epoch 25/50\n",
      "-----------\n",
      "train Loss: 0.6922 Acc: 7.7660\n",
      "----------\n",
      "val Loss: 13.9542 Acc: 5.6600\n",
      "----------\n",
      "Epoch 26/50\n",
      "-----------\n",
      "train Loss: 0.7057 Acc: 7.7550\n",
      "----------\n",
      "val Loss: 14.1009 Acc: 5.6552\n",
      "----------\n",
      "Epoch 27/50\n",
      "-----------\n",
      "train Loss: 0.6518 Acc: 7.7724\n",
      "----------\n",
      "val Loss: 14.1133 Acc: 5.6960\n",
      "----------\n",
      "Epoch 28/50\n",
      "-----------\n",
      "train Loss: 0.5727 Acc: 7.8060\n",
      "----------\n",
      "val Loss: 14.7887 Acc: 5.6424\n",
      "----------\n",
      "Epoch 29/50\n",
      "-----------\n",
      "train Loss: 0.4716 Acc: 7.8460\n",
      "----------\n",
      "val Loss: 14.7140 Acc: 5.7064\n",
      "----------\n",
      "Epoch 30/50\n",
      "-----------\n",
      "train Loss: 0.4191 Acc: 7.8620\n",
      "----------\n",
      "val Loss: 16.0995 Acc: 5.6472\n",
      "----------\n",
      "Epoch 31/50\n",
      "-----------\n",
      "train Loss: 0.4885 Acc: 7.8330\n",
      "----------\n",
      "val Loss: 15.1232 Acc: 5.7016\n",
      "----------\n",
      "Epoch 32/50\n",
      "-----------\n",
      "train Loss: 0.4156 Acc: 7.8670\n",
      "----------\n",
      "val Loss: 15.4474 Acc: 5.7120\n",
      "----------\n",
      "Epoch 33/50\n",
      "-----------\n",
      "train Loss: 0.3973 Acc: 7.8690\n",
      "----------\n",
      "val Loss: 15.5198 Acc: 5.7032\n",
      "----------\n",
      "Epoch 34/50\n",
      "-----------\n",
      "train Loss: 0.3404 Acc: 7.8878\n",
      "----------\n",
      "val Loss: 15.9634 Acc: 5.6664\n",
      "----------\n",
      "Epoch 35/50\n",
      "-----------\n",
      "train Loss: 0.3716 Acc: 7.8774\n",
      "----------\n",
      "val Loss: 16.1026 Acc: 5.7032\n",
      "----------\n",
      "Epoch 36/50\n",
      "-----------\n",
      "train Loss: 0.4007 Acc: 7.8756\n",
      "----------\n",
      "val Loss: 15.8450 Acc: 5.6856\n",
      "----------\n",
      "Epoch 37/50\n",
      "-----------\n",
      "train Loss: 0.2127 Acc: 7.9394\n",
      "----------\n",
      "val Loss: 16.0861 Acc: 5.7504\n",
      "----------\n",
      "Epoch 38/50\n",
      "-----------\n",
      "train Loss: 0.1814 Acc: 7.9470\n",
      "----------\n",
      "val Loss: 16.6455 Acc: 5.7312\n",
      "----------\n",
      "Epoch 39/50\n",
      "-----------\n",
      "train Loss: 0.2557 Acc: 7.9140\n",
      "----------\n",
      "val Loss: 17.0762 Acc: 5.7328\n",
      "----------\n",
      "Epoch 40/50\n",
      "-----------\n",
      "train Loss: 0.3600 Acc: 7.8772\n",
      "----------\n",
      "val Loss: 17.2842 Acc: 5.6400\n",
      "----------\n",
      "Epoch 41/50\n",
      "-----------\n",
      "train Loss: 0.3175 Acc: 7.8932\n",
      "----------\n",
      "val Loss: 17.2059 Acc: 5.6744\n",
      "----------\n",
      "Epoch 42/50\n",
      "-----------\n",
      "train Loss: 0.3783 Acc: 7.8700\n",
      "----------\n",
      "val Loss: 16.7659 Acc: 5.7344\n",
      "----------\n",
      "Epoch 43/50\n",
      "-----------\n",
      "train Loss: 0.2852 Acc: 7.9048\n",
      "----------\n",
      "val Loss: 17.2436 Acc: 5.6808\n",
      "----------\n",
      "Epoch 44/50\n",
      "-----------\n",
      "train Loss: 0.2468 Acc: 7.9162\n",
      "----------\n",
      "val Loss: 17.1484 Acc: 5.7384\n",
      "----------\n",
      "Epoch 45/50\n",
      "-----------\n",
      "train Loss: 0.2228 Acc: 7.9218\n",
      "----------\n",
      "val Loss: 17.3247 Acc: 5.7416\n",
      "----------\n",
      "Epoch 46/50\n",
      "-----------\n",
      "train Loss: 0.2170 Acc: 7.9284\n",
      "----------\n",
      "val Loss: 17.4538 Acc: 5.7504\n",
      "----------\n",
      "Epoch 47/50\n",
      "-----------\n",
      "train Loss: 0.2319 Acc: 7.9256\n",
      "----------\n",
      "val Loss: 17.6268 Acc: 5.7272\n",
      "----------\n",
      "Epoch 48/50\n",
      "-----------\n",
      "train Loss: 0.1873 Acc: 7.9420\n",
      "----------\n",
      "val Loss: 18.3633 Acc: 5.6880\n",
      "----------\n",
      "Epoch 49/50\n",
      "-----------\n",
      "train Loss: 0.1636 Acc: 7.9508\n",
      "----------\n",
      "val Loss: 17.3469 Acc: 5.7368\n",
      "----------\n",
      "Epoch 50/50\n",
      "-----------\n",
      "train Loss: 0.0965 Acc: 7.9750\n",
      "----------\n",
      "val Loss: 17.8593 Acc: 5.7768\n",
      "----------\n"
     ]
    },
    {
     "data": {
      "image/png": "[encoded data removed]",
      "text/plain": [
       "<Figure size 432x288 with 1 Axes>"
      ]
     },
     "metadata": {
      "needs_background": "light"
     },
     "output_type": "display_data"
    },
    {
     "name": "stdout",
     "output_type": "stream",
     "text": [
      "Best val Acc: 6.009600\n"
     ]
    }
   ],
   "source": [
    "# Train the model\n",
    "\n",
    "EPOCHS = 50\n",
    "CIFAR = CIFAR.train_cnn(CIFAR, EPOCHS, train_dic, criterion, optimizer)\n",
    "\n",
    "# Save the trained model.\n",
    "torch.save(model.state_dict(), './CIFAR.pth')"
   ]
  },
  {
   "cell_type": "code",
   "execution_count": 23,
   "metadata": {},
   "outputs": [
    {
     "name": "stdout",
     "output_type": "stream",
     "text": [
      "Test dataset accuracy: 69.7200%\n"
     ]
    }
   ],
   "source": [
    "# Calculate the accuracy of the model with test data.\n",
    "\n",
    "acc_test = calculate_global_acc(CIFAR, test_loader, 8)\n",
    "print('Test dataset accuracy: %.4f%%'%(acc_test))"
   ]
  },
  {
   "cell_type": "code",
   "execution_count": 24,
   "metadata": {},
   "outputs": [
    {
     "name": "stdout",
     "output_type": "stream",
     "text": [
      "Train dataset accuracy: 78.1260%\n"
     ]
    }
   ],
   "source": [
    "# Calculate accuracy of the model with training data.\n",
    "\n",
    "acc_train = calculate_global_acc(CIFAR, train_loader, 8)\n",
    "print('Train dataset accuracy: %.4f%%'%(acc_train))"
   ]
  },
  {
   "cell_type": "code",
   "execution_count": 13,
   "metadata": {},
   "outputs": [],
   "source": [
    "# Test the NN with the test dataset.\n",
    "\n",
    "data_test = [x for x in test_loader]"
   ]
  },
  {
   "cell_type": "code",
   "execution_count": 14,
   "metadata": {},
   "outputs": [],
   "source": [
    "def imshow(img, title,cmap, norm=None):\n",
    "    '''\n",
    "    Show the matrices.\n",
    "    '''\n",
    "    plt.figure()\n",
    "    plt.axis('off')\n",
    "    plt.imshow(img, norm=norm)\n",
    "    plt.title(title)\n",
    "    plt.show()\n",
    "    \n",
    "    \n",
    "def image_show(img1, img2, img3, title, norm = None):\n",
    "    'Show images in RGB'\n",
    "    ima = torch.zeros([32, 32, 3])\n",
    "    for i in range(32):\n",
    "        for j in range(32):\n",
    "            ima[i][j] = torch.tensor([[img1[i][j], img2[i][j], img3[i][j]]])\n",
    "    plt.figure()\n",
    "    plt.axis('off')\n",
    "    plt.imshow(ima, norm=norm)\n",
    "    plt.title(title)\n",
    "    plt.show()"
   ]
  },
  {
   "cell_type": "code",
   "execution_count": 19,
   "metadata": {},
   "outputs": [],
   "source": [
    "def test_NN(n, filters=False):\n",
    "    for i in range(n):\n",
    "        random_ind = np.random.randint(1, 999)\n",
    "        (image, label) = data_test[random_ind]\n",
    "        o = model(image)\n",
    "        _, pred = torch.max(o, 1)\n",
    "        \n",
    "        print('NN guesses a : ', classes[int(pred[0])])\n",
    "        print('The correct answer is: ',  classes[label[0]])\n",
    "\n",
    "        image_show(image[0, 0, :, :], image[0, 1, :, :], image[0, 2, :, :], 'image')\n",
    "        if filters:\n",
    "            proccessed_image = model.features(image)\n",
    "            imshow(proccessed_image[0, 0, :, :].detach(), 'filtered', 'winter')\n",
    "            imshow(proccessed_image[0, 1, :, :].detach(), 'filtered', 'winter')\n",
    "            imshow(proccessed_image[0, 2, :, :].detach(), 'filtered', 'winter')\n",
    "        print('-----------------------------')\n",
    "\n"
   ]
  },
  {
   "cell_type": "code",
   "execution_count": 25,
   "metadata": {},
   "outputs": [
    {
     "name": "stdout",
     "output_type": "stream",
     "text": [
      "NN guesses a :  horse\n",
      "The correct answer is:  horse\n"
     ]
    },
    {
     "data": {
      "image/png": "[encoded data removed]",
      "text/plain": [
       "<Figure size 432x288 with 1 Axes>"
      ]
     },
     "metadata": {
      "needs_background": "light"
     },
     "output_type": "display_data"
    },
    {
     "name": "stdout",
     "output_type": "stream",
     "text": [
      "-----------------------------\n",
      "NN guesses a :  cat\n",
      "The correct answer is:  cat\n"
     ]
    },
    {
     "data": {
      "image/png": "[encoded data removed]",
      "text/plain": [
       "<Figure size 432x288 with 1 Axes>"
      ]
     },
     "metadata": {
      "needs_background": "light"
     },
     "output_type": "display_data"
    },
    {
     "name": "stdout",
     "output_type": "stream",
     "text": [
      "-----------------------------\n",
      "NN guesses a :  horse\n",
      "The correct answer is:  cat\n"
     ]
    },
    {
     "data": {
      "image/png": "[encoded data removed]",
      "text/plain": [
       "<Figure size 432x288 with 1 Axes>"
      ]
     },
     "metadata": {
      "needs_background": "light"
     },
     "output_type": "display_data"
    },
    {
     "name": "stdout",
     "output_type": "stream",
     "text": [
      "-----------------------------\n",
      "NN guesses a :  truck\n",
      "The correct answer is:  truck\n"
     ]
    },
    {
     "data": {
      "image/png": "[encoded data removed]",
      "text/plain": [
       "<Figure size 432x288 with 1 Axes>"
      ]
     },
     "metadata": {
      "needs_background": "light"
     },
     "output_type": "display_data"
    },
    {
     "name": "stdout",
     "output_type": "stream",
     "text": [
      "-----------------------------\n",
      "NN guesses a :  ship\n",
      "The correct answer is:  ship\n"
     ]
    },
    {
     "data": {
      "image/png": "[encoded data removed]",
      "text/plain": [
       "<Figure size 432x288 with 1 Axes>"
      ]
     },
     "metadata": {
      "needs_background": "light"
     },
     "output_type": "display_data"
    },
    {
     "name": "stdout",
     "output_type": "stream",
     "text": [
      "-----------------------------\n"
     ]
    }
   ],
   "source": [
    "test_NN(5)"
   ]
  },
  {
   "cell_type": "markdown",
   "metadata": {},
   "source": [
    "Filters\n",
    "\n",
    "This Neural network has 64 filters in the first layer."
   ]
  },
  {
   "cell_type": "code",
   "execution_count": 26,
   "metadata": {},
   "outputs": [
    {
     "data": {
      "image/png": "[encoded data removed]",
      "text/plain": [
       "<Figure size 432x288 with 1 Axes>"
      ]
     },
     "metadata": {
      "needs_background": "light"
     },
     "output_type": "display_data"
    },
    {
     "data": {
      "image/png": "[encoded data removed]",
      "text/plain": [
       "<Figure size 432x288 with 1 Axes>"
      ]
     },
     "metadata": {
      "needs_background": "light"
     },
     "output_type": "display_data"
    },
    {
     "data": {
      "image/png": "[encoded data removed]",
      "text/plain": [
       "<Figure size 432x288 with 1 Axes>"
      ]
     },
     "metadata": {
      "needs_background": "light"
     },
     "output_type": "display_data"
    },
    {
     "data": {
      "image/png": "[encoded data removed]",
      "text/plain": [
       "<Figure size 432x288 with 1 Axes>"
      ]
     },
     "metadata": {
      "needs_background": "light"
     },
     "output_type": "display_data"
    },
    {
     "data": {
      "image/png": "[encoded data removed]",
      "text/plain": [
       "<Figure size 432x288 with 1 Axes>"
      ]
     },
     "metadata": {
      "needs_background": "light"
     },
     "output_type": "display_data"
    },
    {
     "data": {
      "image/png": "[encoded data removed]",
      "text/plain": [
       "<Figure size 432x288 with 1 Axes>"
      ]
     },
     "metadata": {
      "needs_background": "light"
     },
     "output_type": "display_data"
    },
    {
     "data": {
      "image/png": "[encoded data removed]",
      "text/plain": [
       "<Figure size 432x288 with 1 Axes>"
      ]
     },
     "metadata": {
      "needs_background": "light"
     },
     "output_type": "display_data"
    },
    {
     "data": {
      "image/png": "[encoded data removed]",
      "text/plain": [
       "<Figure size 432x288 with 1 Axes>"
      ]
     },
     "metadata": {
      "needs_background": "light"
     },
     "output_type": "display_data"
    },
    {
     "data": {
      "image/png": "[encoded data removed]",
      "text/plain": [
       "<Figure size 432x288 with 1 Axes>"
      ]
     },
     "metadata": {
      "needs_background": "light"
     },
     "output_type": "display_data"
    },
    {
     "data": {
      "image/png": "[encoded data removed]",
      "text/plain": [
       "<Figure size 432x288 with 1 Axes>"
      ]
     },
     "metadata": {
      "needs_background": "light"
     },
     "output_type": "display_data"
    },
    {
     "data": {
      "image/png": "[encoded data removed]",
      "text/plain": [
       "<Figure size 432x288 with 1 Axes>"
      ]
     },
     "metadata": {
      "needs_background": "light"
     },
     "output_type": "display_data"
    },
    {
     "data": {
      "image/png": "[encoded data removed]",
      "text/plain": [
       "<Figure size 432x288 with 1 Axes>"
      ]
     },
     "metadata": {
      "needs_background": "light"
     },
     "output_type": "display_data"
    },
    {
     "data": {
      "image/png": "[encoded data removed]",
      "text/plain": [
       "<Figure size 432x288 with 1 Axes>"
      ]
     },
     "metadata": {
      "needs_background": "light"
     },
     "output_type": "display_data"
    },
    {
     "data": {
      "image/png": "[encoded data removed]",
      "text/plain": [
       "<Figure size 432x288 with 1 Axes>"
      ]
     },
     "metadata": {
      "needs_background": "light"
     },
     "output_type": "display_data"
    },
    {
     "data": {
      "image/png": "[encoded data removed]",
      "text/plain": [
       "<Figure size 432x288 with 1 Axes>"
      ]
     },
     "metadata": {
      "needs_background": "light"
     },
     "output_type": "display_data"
    },
    {
     "data": {
      "image/png": "[encoded data removed]",
      "text/plain": [
       "<Figure size 432x288 with 1 Axes>"
      ]
     },
     "metadata": {
      "needs_background": "light"
     },
     "output_type": "display_data"
    },
    {
     "data": {
      "image/png": "[encoded data removed]",
      "text/plain": [
       "<Figure size 432x288 with 1 Axes>"
      ]
     },
     "metadata": {
      "needs_background": "light"
     },
     "output_type": "display_data"
    },
    {
     "data": {
      "image/png": "[encoded data removed]",
      "text/plain": [
       "<Figure size 432x288 with 1 Axes>"
      ]
     },
     "metadata": {
      "needs_background": "light"
     },
     "output_type": "display_data"
    },
    {
     "data": {
      "image/png": "[encoded data removed]",
      "text/plain": [
       "<Figure size 432x288 with 1 Axes>"
      ]
     },
     "metadata": {
      "needs_background": "light"
     },
     "output_type": "display_data"
    },
    {
     "data": {
      "image/png": "[encoded data removed]",
      "text/plain": [
       "<Figure size 432x288 with 1 Axes>"
      ]
     },
     "metadata": {
      "needs_background": "light"
     },
     "output_type": "display_data"
    },
    {
     "data": {
      "image/png": "[encoded data removed]",
      "text/plain": [
       "<Figure size 432x288 with 1 Axes>"
      ]
     },
     "metadata": {
      "needs_background": "light"
     },
     "output_type": "display_data"
    },
    {
     "data": {
      "image/png": "[encoded data removed]",
      "text/plain": [
       "<Figure size 432x288 with 1 Axes>"
      ]
     },
     "metadata": {
      "needs_background": "light"
     },
     "output_type": "display_data"
    },
    {
     "data": {
      "image/png": "[encoded data removed]",
      "text/plain": [
       "<Figure size 432x288 with 1 Axes>"
      ]
     },
     "metadata": {
      "needs_background": "light"
     },
     "output_type": "display_data"
    },
    {
     "data": {
      "image/png": "[encoded data removed]",
      "text/plain": [
       "<Figure size 432x288 with 1 Axes>"
      ]
     },
     "metadata": {
      "needs_background": "light"
     },
     "output_type": "display_data"
    },
    {
     "data": {
      "image/png": "[encoded data removed]",
      "text/plain": [
       "<Figure size 432x288 with 1 Axes>"
      ]
     },
     "metadata": {
      "needs_background": "light"
     },
     "output_type": "display_data"
    },
    {
     "data": {
      "image/png": "[encoded data removed]",
      "text/plain": [
       "<Figure size 432x288 with 1 Axes>"
      ]
     },
     "metadata": {
      "needs_background": "light"
     },
     "output_type": "display_data"
    },
    {
     "data": {
      "image/png": "[encoded data removed]",
      "text/plain": [
       "<Figure size 432x288 with 1 Axes>"
      ]
     },
     "metadata": {
      "needs_background": "light"
     },
     "output_type": "display_data"
    },
    {
     "data": {
      "image/png": "[encoded data removed]",
      "text/plain": [
       "<Figure size 432x288 with 1 Axes>"
      ]
     },
     "metadata": {
      "needs_background": "light"
     },
     "output_type": "display_data"
    },
    {
     "data": {
      "image/png": "[encoded data removed]",
      "text/plain": [
       "<Figure size 432x288 with 1 Axes>"
      ]
     },
     "metadata": {
      "needs_background": "light"
     },
     "output_type": "display_data"
    },
    {
     "data": {
      "image/png": "[encoded data removed]",
      "text/plain": [
       "<Figure size 432x288 with 1 Axes>"
      ]
     },
     "metadata": {
      "needs_background": "light"
     },
     "output_type": "display_data"
    },
    {
     "data": {
      "image/png": "[encoded data removed]",
      "text/plain": [
       "<Figure size 432x288 with 1 Axes>"
      ]
     },
     "metadata": {
      "needs_background": "light"
     },
     "output_type": "display_data"
    },
    {
     "data": {
      "image/png": "[encoded data removed]",
      "text/plain": [
       "<Figure size 432x288 with 1 Axes>"
      ]
     },
     "metadata": {
      "needs_background": "light"
     },
     "output_type": "display_data"
    },
    {
     "data": {
      "image/png": "[encoded data removed]",
      "text/plain": [
       "<Figure size 432x288 with 1 Axes>"
      ]
     },
     "metadata": {
      "needs_background": "light"
     },
     "output_type": "display_data"
    },
    {
     "data": {
      "image/png": "[encoded data removed]",
      "text/plain": [
       "<Figure size 432x288 with 1 Axes>"
      ]
     },
     "metadata": {
      "needs_background": "light"
     },
     "output_type": "display_data"
    },
    {
     "data": {
      "image/png": "[encoded data removed]",
      "text/plain": [
       "<Figure size 432x288 with 1 Axes>"
      ]
     },
     "metadata": {
      "needs_background": "light"
     },
     "output_type": "display_data"
    },
    {
     "data": {
      "image/png": "[encoded data removed]",
      "text/plain": [
       "<Figure size 432x288 with 1 Axes>"
      ]
     },
     "metadata": {
      "needs_background": "light"
     },
     "output_type": "display_data"
    },
    {
     "data": {
      "image/png": "[encoded data removed]",
      "text/plain": [
       "<Figure size 432x288 with 1 Axes>"
      ]
     },
     "metadata": {
      "needs_background": "light"
     },
     "output_type": "display_data"
    },
    {
     "data": {
      "image/png": "[encoded data removed]",
      "text/plain": [
       "<Figure size 432x288 with 1 Axes>"
      ]
     },
     "metadata": {
      "needs_background": "light"
     },
     "output_type": "display_data"
    },
    {
     "data": {
      "image/png": "[encoded data removed]",
      "text/plain": [
       "<Figure size 432x288 with 1 Axes>"
      ]
     },
     "metadata": {
      "needs_background": "light"
     },
     "output_type": "display_data"
    },
    {
     "data": {
      "image/png": "[encoded data removed]",
      "text/plain": [
       "<Figure size 432x288 with 1 Axes>"
      ]
     },
     "metadata": {
      "needs_background": "light"
     },
     "output_type": "display_data"
    },
    {
     "data": {
      "image/png": "[encoded data removed]",
      "text/plain": [
       "<Figure size 432x288 with 1 Axes>"
      ]
     },
     "metadata": {
      "needs_background": "light"
     },
     "output_type": "display_data"
    },
    {
     "data": {
      "image/png": "[encoded data removed]",
      "text/plain": [
       "<Figure size 432x288 with 1 Axes>"
      ]
     },
     "metadata": {
      "needs_background": "light"
     },
     "output_type": "display_data"
    },
    {
     "data": {
      "image/png": "[encoded data removed]",
      "text/plain": [
       "<Figure size 432x288 with 1 Axes>"
      ]
     },
     "metadata": {
      "needs_background": "light"
     },
     "output_type": "display_data"
    },
    {
     "data": {
      "image/png": "[encoded data removed]",
      "text/plain": [
       "<Figure size 432x288 with 1 Axes>"
      ]
     },
     "metadata": {
      "needs_background": "light"
     },
     "output_type": "display_data"
    },
    {
     "data": {
      "image/png": "[encoded data removed]",
      "text/plain": [
       "<Figure size 432x288 with 1 Axes>"
      ]
     },
     "metadata": {
      "needs_background": "light"
     },
     "output_type": "display_data"
    },
    {
     "data": {
      "image/png": "[encoded data removed]",
      "text/plain": [
       "<Figure size 432x288 with 1 Axes>"
      ]
     },
     "metadata": {
      "needs_background": "light"
     },
     "output_type": "display_data"
    },
    {
     "data": {
      "image/png": "[encoded data removed]",
      "text/plain": [
       "<Figure size 432x288 with 1 Axes>"
      ]
     },
     "metadata": {
      "needs_background": "light"
     },
     "output_type": "display_data"
    },
    {
     "data": {
      "image/png": "[encoded data removed]",
      "text/plain": [
       "<Figure size 432x288 with 1 Axes>"
      ]
     },
     "metadata": {
      "needs_background": "light"
     },
     "output_type": "display_data"
    },
    {
     "data": {
      "image/png": "[encoded data removed]",
      "text/plain": [
       "<Figure size 432x288 with 1 Axes>"
      ]
     },
     "metadata": {
      "needs_background": "light"
     },
     "output_type": "display_data"
    },
    {
     "data": {
      "image/png": "[encoded data removed]",
      "text/plain": [
       "<Figure size 432x288 with 1 Axes>"
      ]
     },
     "metadata": {
      "needs_background": "light"
     },
     "output_type": "display_data"
    },
    {
     "data": {
      "image/png": "[encoded data removed]",
      "text/plain": [
       "<Figure size 432x288 with 1 Axes>"
      ]
     },
     "metadata": {
      "needs_background": "light"
     },
     "output_type": "display_data"
    },
    {
     "data": {
      "image/png": "[encoded data removed]",
      "text/plain": [
       "<Figure size 432x288 with 1 Axes>"
      ]
     },
     "metadata": {
      "needs_background": "light"
     },
     "output_type": "display_data"
    },
    {
     "data": {
      "image/png": "[encoded data removed]",
      "text/plain": [
       "<Figure size 432x288 with 1 Axes>"
      ]
     },
     "metadata": {
      "needs_background": "light"
     },
     "output_type": "display_data"
    },
    {
     "data": {
      "image/png": "[encoded data removed]",
      "text/plain": [
       "<Figure size 432x288 with 1 Axes>"
      ]
     },
     "metadata": {
      "needs_background": "light"
     },
     "output_type": "display_data"
    },
    {
     "data": {
      "image/png": "[encoded data removed]",
      "text/plain": [
       "<Figure size 432x288 with 1 Axes>"
      ]
     },
     "metadata": {
      "needs_background": "light"
     },
     "output_type": "display_data"
    },
    {
     "data": {
      "image/png": "[encoded data removed]",
      "text/plain": [
       "<Figure size 432x288 with 1 Axes>"
      ]
     },
     "metadata": {
      "needs_background": "light"
     },
     "output_type": "display_data"
    },
    {
     "data": {
      "image/png": "[encoded data removed]",
      "text/plain": [
       "<Figure size 432x288 with 1 Axes>"
      ]
     },
     "metadata": {
      "needs_background": "light"
     },
     "output_type": "display_data"
    },
    {
     "data": {
      "image/png": "[encoded data removed]",
      "text/plain": [
       "<Figure size 432x288 with 1 Axes>"
      ]
     },
     "metadata": {
      "needs_background": "light"
     },
     "output_type": "display_data"
    },
    {
     "data": {
      "image/png": "[encoded data removed]",
      "text/plain": [
       "<Figure size 432x288 with 1 Axes>"
      ]
     },
     "metadata": {
      "needs_background": "light"
     },
     "output_type": "display_data"
    },
    {
     "data": {
      "image/png": "[encoded data removed]",
      "text/plain": [
       "<Figure size 432x288 with 1 Axes>"
      ]
     },
     "metadata": {
      "needs_background": "light"
     },
     "output_type": "display_data"
    },
    {
     "data": {
      "image/png": "[encoded data removed]",
      "text/plain": [
       "<Figure size 432x288 with 1 Axes>"
      ]
     },
     "metadata": {
      "needs_background": "light"
     },
     "output_type": "display_data"
    },
    {
     "data": {
      "image/png": "[encoded data removed]",
      "text/plain": [
       "<Figure size 432x288 with 1 Axes>"
      ]
     },
     "metadata": {
      "needs_background": "light"
     },
     "output_type": "display_data"
    },
    {
     "data": {
      "image/png": "[encoded data removed]",
      "text/plain": [
       "<Figure size 432x288 with 1 Axes>"
      ]
     },
     "metadata": {
      "needs_background": "light"
     },
     "output_type": "display_data"
    },
    {
     "data": {
      "image/png": "[encoded data removed]",
      "text/plain": [
       "<Figure size 432x288 with 1 Axes>"
      ]
     },
     "metadata": {
      "needs_background": "light"
     },
     "output_type": "display_data"
    }
   ],
   "source": [
    "# Theese are the filters that the NN applies to the images in the first layer.\n",
    "def print_filters():\n",
    "    first_layer_filters = model.features[0].weight.detach()\n",
    "    i = 0\n",
    "    for filter_image in first_layer_filters:\n",
    "        imshow(filter_image[0, :, :], 'filter {} first layer'.format(i), 'winter')\n",
    "        i += 1\n",
    "        \n",
    "print_filters()\n"
   ]
  },
  {
   "cell_type": "code",
   "execution_count": 28,
   "metadata": {},
   "outputs": [
    {
     "name": "stdout",
     "output_type": "stream",
     "text": [
      "NN guesses a :  ship\n",
      "The correct answer is:  ship\n"
     ]
    },
    {
     "data": {
      "image/png": "[encoded data removed]",
      "text/plain": [
       "<Figure size 432x288 with 1 Axes>"
      ]
     },
     "metadata": {
      "needs_background": "light"
     },
     "output_type": "display_data"
    },
    {
     "data": {
      "image/png": "[encoded data removed]",
      "text/plain": [
       "<Figure size 432x288 with 1 Axes>"
      ]
     },
     "metadata": {
      "needs_background": "light"
     },
     "output_type": "display_data"
    },
    {
     "data": {
      "image/png": "[encoded data removed]",
      "text/plain": [
       "<Figure size 432x288 with 1 Axes>"
      ]
     },
     "metadata": {
      "needs_background": "light"
     },
     "output_type": "display_data"
    },
    {
     "data": {
      "image/png": "[encoded data removed]",
      "text/plain": [
       "<Figure size 432x288 with 1 Axes>"
      ]
     },
     "metadata": {
      "needs_background": "light"
     },
     "output_type": "display_data"
    },
    {
     "name": "stdout",
     "output_type": "stream",
     "text": [
      "-----------------------------\n",
      "NN guesses a :  deer\n",
      "The correct answer is:  deer\n"
     ]
    },
    {
     "data": {
      "image/png": "[encoded data removed]",
      "text/plain": [
       "<Figure size 432x288 with 1 Axes>"
      ]
     },
     "metadata": {
      "needs_background": "light"
     },
     "output_type": "display_data"
    },
    {
     "data": {
      "image/png": "[encoded data removed]",
      "text/plain": [
       "<Figure size 432x288 with 1 Axes>"
      ]
     },
     "metadata": {
      "needs_background": "light"
     },
     "output_type": "display_data"
    },
    {
     "data": {
      "image/png": "[encoded data removed]",
      "text/plain": [
       "<Figure size 432x288 with 1 Axes>"
      ]
     },
     "metadata": {
      "needs_background": "light"
     },
     "output_type": "display_data"
    },
    {
     "data": {
      "image/png": "[encoded data removed]",
      "text/plain": [
       "<Figure size 432x288 with 1 Axes>"
      ]
     },
     "metadata": {
      "needs_background": "light"
     },
     "output_type": "display_data"
    },
    {
     "name": "stdout",
     "output_type": "stream",
     "text": [
      "-----------------------------\n",
      "NN guesses a :  deer\n",
      "The correct answer is:  deer\n"
     ]
    },
    {
     "data": {
      "image/png": "[encoded data removed]",
      "text/plain": [
       "<Figure size 432x288 with 1 Axes>"
      ]
     },
     "metadata": {
      "needs_background": "light"
     },
     "output_type": "display_data"
    },
    {
     "data": {
      "image/png": "[encoded data removed]",
      "text/plain": [
       "<Figure size 432x288 with 1 Axes>"
      ]
     },
     "metadata": {
      "needs_background": "light"
     },
     "output_type": "display_data"
    },
    {
     "data": {
      "image/png": "[encoded data removed]",
      "text/plain": [
       "<Figure size 432x288 with 1 Axes>"
      ]
     },
     "metadata": {
      "needs_background": "light"
     },
     "output_type": "display_data"
    },
    {
     "data": {
      "image/png": "[encoded data removed]",
      "text/plain": [
       "<Figure size 432x288 with 1 Axes>"
      ]
     },
     "metadata": {
      "needs_background": "light"
     },
     "output_type": "display_data"
    },
    {
     "name": "stdout",
     "output_type": "stream",
     "text": [
      "-----------------------------\n",
      "NN guesses a :  bird\n",
      "The correct answer is:  cat\n"
     ]
    },
    {
     "data": {
      "image/png": "[encoded data removed]",
      "text/plain": [
       "<Figure size 432x288 with 1 Axes>"
      ]
     },
     "metadata": {
      "needs_background": "light"
     },
     "output_type": "display_data"
    },
    {
     "data": {
      "image/png": "[encoded data removed]",
      "text/plain": [
       "<Figure size 432x288 with 1 Axes>"
      ]
     },
     "metadata": {
      "needs_background": "light"
     },
     "output_type": "display_data"
    },
    {
     "data": {
      "image/png": "[encoded data removed]",
      "text/plain": [
       "<Figure size 432x288 with 1 Axes>"
      ]
     },
     "metadata": {
      "needs_background": "light"
     },
     "output_type": "display_data"
    },
    {
     "data": {
      "image/png": "[encoded data removed]",
      "text/plain": [
       "<Figure size 432x288 with 1 Axes>"
      ]
     },
     "metadata": {
      "needs_background": "light"
     },
     "output_type": "display_data"
    },
    {
     "name": "stdout",
     "output_type": "stream",
     "text": [
      "-----------------------------\n",
      "NN guesses a :  car\n",
      "The correct answer is:  car\n"
     ]
    },
    {
     "data": {
      "image/png": "[encoded data removed]",
      "text/plain": [
       "<Figure size 432x288 with 1 Axes>"
      ]
     },
     "metadata": {
      "needs_background": "light"
     },
     "output_type": "display_data"
    },
    {
     "data": {
      "image/png": "[encoded data removed]",
      "text/plain": [
       "<Figure size 432x288 with 1 Axes>"
      ]
     },
     "metadata": {
      "needs_background": "light"
     },
     "output_type": "display_data"
    },
    {
     "data": {
      "image/png": "[encoded data removed]",
      "text/plain": [
       "<Figure size 432x288 with 1 Axes>"
      ]
     },
     "metadata": {
      "needs_background": "light"
     },
     "output_type": "display_data"
    },
    {
     "data": {
      "image/png": "[encoded data removed]",
      "text/plain": [
       "<Figure size 432x288 with 1 Axes>"
      ]
     },
     "metadata": {
      "needs_background": "light"
     },
     "output_type": "display_data"
    },
    {
     "name": "stdout",
     "output_type": "stream",
     "text": [
      "-----------------------------\n"
     ]
    }
   ],
   "source": [
    "# Let's look how images look after being filtered by the NN.\n",
    "\n",
    "test_NN(5, filters= True)"
   ]
  },
  {
   "cell_type": "code",
   "execution_count": 40,
   "metadata": {},
   "outputs": [],
   "source": [
    "# Finally let`s see the performance obtained by calculating the confusion matrix and\n",
    "# also calculating the accuracy per class.\n",
    "\n",
    "def confusion(model, data):\n",
    "        confusion = np.array([[0]*10]*10)\n",
    "        acc = np.array([[0.0]]*10)\n",
    "        for i in range(len(data)):\n",
    "            (image, label) = data_test[i]\n",
    "            o = model(image)\n",
    "            _, pred = torch.max(o, 1)\n",
    "            # We're taking batches of 8\n",
    "            for j in range(8):\n",
    "                confusion[label[j]][int(pred[j])] += 1\n",
    "        return confusion\n",
    "        \n",
    "\n",
    "def acc_per_class(conf_mat):\n",
    "    dicc = {}\n",
    "    i = 0\n",
    "    for cla in classes:\n",
    "        dicc[cla] = conf_mat[i][i]/sum(conf_mat[i])\n",
    "        i += 1\n",
    "    return dicc"
   ]
  },
  {
   "cell_type": "code",
   "execution_count": 41,
   "metadata": {},
   "outputs": [
    {
     "name": "stdout",
     "output_type": "stream",
     "text": [
      "[[767  22  23  17  13   1  11  16 111  19]\n",
      " [ 23 823   8  12   2   2  14   9  37  70]\n",
      " [ 90  14 546  75  72  45  70  54  24  10]\n",
      " [ 25  20  75 498  65 130  78  57  34  18]\n",
      " [ 44   3  74  58 607  24  54 101  30   5]\n",
      " [ 24   6  54 221  38 498  39  96  20   4]\n",
      " [ 12   8  36  45  26  20 827  13  10   3]\n",
      " [ 22   6  17  48  42  26   8 809   8  14]\n",
      " [ 51  28   8  10   4   4  11   5 860  19]\n",
      " [ 47  87  10  19   3   9  13  15  60 737]]\n",
      "{'plane': 0.767, 'car': 0.823, 'bird': 0.546, 'cat': 0.498, 'deer': 0.607, 'dog': 0.498, 'frog': 0.827, 'horse': 0.809, 'ship': 0.86, 'truck': 0.737}\n"
     ]
    }
   ],
   "source": [
    "conf_matrix = confusion(model, data_test)\n",
    "print(conf_matrix)\n",
    "print(acc_per_class(conf_matrix))\n"
   ]
  },
  {
   "cell_type": "code",
   "execution_count": null,
   "metadata": {},
   "outputs": [],
   "source": []
  }
 ],
 "metadata": {
  "kernelspec": {
   "display_name": "Python 3",
   "language": "python",
   "name": "python3"
  },
  "language_info": {
   "codemirror_mode": {
    "name": "ipython",
    "version": 3
   },
   "file_extension": ".py",
   "mimetype": "text/x-python",
   "name": "python",
   "nbconvert_exporter": "python",
   "pygments_lexer": "ipython3",
   "version": "3.8.5"
  }
 },
 "nbformat": 4,
 "nbformat_minor": 4
}
